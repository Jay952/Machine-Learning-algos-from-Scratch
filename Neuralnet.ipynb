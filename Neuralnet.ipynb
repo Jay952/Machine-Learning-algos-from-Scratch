{
  "nbformat": 4,
  "nbformat_minor": 0,
  "metadata": {
    "colab": {
      "name": "Neuralnet.ipynb",
      "provenance": [],
      "collapsed_sections": [],
      "include_colab_link": true
    },
    "kernelspec": {
      "name": "python3",
      "display_name": "Python 3"
    }
  },
  "cells": [
    {
      "cell_type": "markdown",
      "metadata": {
        "id": "view-in-github",
        "colab_type": "text"
      },
      "source": [
        "<a href=\"https://colab.research.google.com/github/VishnuBhaarath/Machine-Learning-algos-from-Scratch/blob/Feed-Forward-Neural-Net-from-scratch/Neuralnet.ipynb\" target=\"_parent\"><img src=\"https://colab.research.google.com/assets/colab-badge.svg\" alt=\"Open In Colab\"/></a>"
      ]
    },
    {
      "cell_type": "code",
      "metadata": {
        "id": "YoEiiISropbn",
        "colab_type": "code",
        "colab": {}
      },
      "source": [
        "import pandas as pd\n",
        "import pandas as pd  \n",
        "import numpy as np  \n",
        "import matplotlib.pyplot as plt  \n",
        "import seaborn as seabornInstance \n",
        "from sklearn import metrics\n",
        "from scipy.io import loadmat"
      ],
      "execution_count": 0,
      "outputs": []
    },
    {
      "cell_type": "code",
      "metadata": {
        "id": "KFBwf-FmpmlB",
        "colab_type": "code",
        "colab": {}
      },
      "source": [
        "data = loadmat('ex3data1.mat')"
      ],
      "execution_count": 0,
      "outputs": []
    },
    {
      "cell_type": "code",
      "metadata": {
        "id": "SARCbWGbqh62",
        "colab_type": "code",
        "colab": {}
      },
      "source": [
        "X=data['X']"
      ],
      "execution_count": 0,
      "outputs": []
    },
    {
      "cell_type": "code",
      "metadata": {
        "id": "zBdFI9SyfHn6",
        "colab_type": "code",
        "outputId": "0e7fdb6b-5603-4a7d-d64d-7032d07b93a8",
        "colab": {
          "base_uri": "https://localhost:8080/",
          "height": 134
        }
      },
      "source": [
        "X"
      ],
      "execution_count": 0,
      "outputs": [
        {
          "output_type": "execute_result",
          "data": {
            "text/plain": [
              "array([[0., 0., 0., ..., 0., 0., 0.],\n",
              "       [0., 0., 0., ..., 0., 0., 0.],\n",
              "       [0., 0., 0., ..., 0., 0., 0.],\n",
              "       ...,\n",
              "       [0., 0., 0., ..., 0., 0., 0.],\n",
              "       [0., 0., 0., ..., 0., 0., 0.],\n",
              "       [0., 0., 0., ..., 0., 0., 0.]])"
            ]
          },
          "metadata": {
            "tags": []
          },
          "execution_count": 119
        }
      ]
    },
    {
      "cell_type": "code",
      "metadata": {
        "id": "z0zpqUGtsDOr",
        "colab_type": "code",
        "outputId": "4fe6c575-f0b1-4090-fc98-fc83098338d9",
        "colab": {
          "base_uri": "https://localhost:8080/",
          "height": 34
        }
      },
      "source": [
        "X.shape"
      ],
      "execution_count": 0,
      "outputs": [
        {
          "output_type": "execute_result",
          "data": {
            "text/plain": [
              "(5000, 400)"
            ]
          },
          "metadata": {
            "tags": []
          },
          "execution_count": 120
        }
      ]
    },
    {
      "cell_type": "code",
      "metadata": {
        "id": "uOubFXnssO_F",
        "colab_type": "code",
        "colab": {}
      },
      "source": [
        "Y=data['y']"
      ],
      "execution_count": 0,
      "outputs": []
    },
    {
      "cell_type": "code",
      "metadata": {
        "id": "AJstZH9tsV9E",
        "colab_type": "code",
        "outputId": "8ef4a3b8-2f3a-41ff-a604-80b65ab201e8",
        "colab": {
          "base_uri": "https://localhost:8080/",
          "height": 134
        }
      },
      "source": [
        "Y #The output layer representing numbers for each examples, there are 5000 rows, each representing a number from 0 to 10"
      ],
      "execution_count": 0,
      "outputs": [
        {
          "output_type": "execute_result",
          "data": {
            "text/plain": [
              "array([[10],\n",
              "       [10],\n",
              "       [10],\n",
              "       ...,\n",
              "       [ 9],\n",
              "       [ 9],\n",
              "       [ 9]], dtype=uint8)"
            ]
          },
          "metadata": {
            "tags": []
          },
          "execution_count": 125
        }
      ]
    },
    {
      "cell_type": "code",
      "metadata": {
        "id": "gSUdkHCmsdP7",
        "colab_type": "code",
        "outputId": "1abd3204-99f7-482d-fa4d-0834d019093c",
        "colab": {
          "base_uri": "https://localhost:8080/",
          "height": 34
        }
      },
      "source": [
        "Y.shape"
      ],
      "execution_count": 0,
      "outputs": [
        {
          "output_type": "execute_result",
          "data": {
            "text/plain": [
              "(5000, 1)"
            ]
          },
          "metadata": {
            "tags": []
          },
          "execution_count": 126
        }
      ]
    },
    {
      "cell_type": "code",
      "metadata": {
        "id": "O4MnQwzX_p24",
        "colab_type": "code",
        "outputId": "19b32151-ab32-4419-ad0a-1203142685a6",
        "colab": {
          "base_uri": "https://localhost:8080/",
          "height": 121
        }
      },
      "source": [
        "from sklearn.preprocessing import OneHotEncoder\n",
        "encoder = OneHotEncoder(sparse=False)\n",
        "Y = encoder.fit_transform(Y)\n",
        "Y.shape"
      ],
      "execution_count": 0,
      "outputs": [
        {
          "output_type": "stream",
          "text": [
            "/usr/local/lib/python3.6/dist-packages/sklearn/preprocessing/_encoders.py:415: FutureWarning: The handling of integer data will change in version 0.22. Currently, the categories are determined based on the range [0, max(values)], while in the future they will be determined based on the unique values.\n",
            "If you want the future behaviour and silence this warning, you can specify \"categories='auto'\".\n",
            "In case you used a LabelEncoder before this OneHotEncoder to convert the categories to integers, then you can now use the OneHotEncoder directly.\n",
            "  warnings.warn(msg, FutureWarning)\n"
          ],
          "name": "stderr"
        },
        {
          "output_type": "execute_result",
          "data": {
            "text/plain": [
              "(5000, 10)"
            ]
          },
          "metadata": {
            "tags": []
          },
          "execution_count": 156
        }
      ]
    },
    {
      "cell_type": "code",
      "metadata": {
        "id": "GlVnshho_7jb",
        "colab_type": "code",
        "outputId": "92208a5d-fd53-4439-93a2-3e58bbe4780a",
        "colab": {
          "base_uri": "https://localhost:8080/",
          "height": 34
        }
      },
      "source": [
        "Y[4000,:]"
      ],
      "execution_count": 0,
      "outputs": [
        {
          "output_type": "execute_result",
          "data": {
            "text/plain": [
              "array([8], dtype=uint8)"
            ]
          },
          "metadata": {
            "tags": []
          },
          "execution_count": 127
        }
      ]
    },
    {
      "cell_type": "code",
      "metadata": {
        "id": "SOdILU-HshWm",
        "colab_type": "code",
        "colab": {}
      },
      "source": [
        "theta= loadmat('ex3weights.mat')"
      ],
      "execution_count": 0,
      "outputs": []
    },
    {
      "cell_type": "code",
      "metadata": {
        "id": "T1su1Gx5s_lp",
        "colab_type": "code",
        "colab": {}
      },
      "source": [
        "Theta1=theta['Theta1'] #Retreving the stored values of Theta1 from ex3weights.mat\n",
        "Theta2=theta['Theta2'] #Retreving the stored values of Theta2 from ex3weights.mat"
      ],
      "execution_count": 0,
      "outputs": []
    },
    {
      "cell_type": "code",
      "metadata": {
        "id": "gwxbToqMtIf0",
        "colab_type": "code",
        "outputId": "c743c271-937c-4a11-a973-5727a81edc77",
        "colab": {
          "base_uri": "https://localhost:8080/",
          "height": 235
        }
      },
      "source": [
        "Theta1  "
      ],
      "execution_count": 0,
      "outputs": [
        {
          "output_type": "execute_result",
          "data": {
            "text/plain": [
              "array([[-2.25623899e-02, -1.05624163e-08,  2.19414684e-09, ...,\n",
              "        -1.30529929e-05, -5.04175101e-06,  2.80464449e-09],\n",
              "       [-9.83811294e-02,  7.66168682e-09, -9.75873689e-09, ...,\n",
              "        -5.60134007e-05,  2.00940969e-07,  3.54422854e-09],\n",
              "       [ 1.16156052e-01, -8.77654466e-09,  8.16037764e-09, ...,\n",
              "        -1.20951657e-04, -2.33669661e-06, -7.50668099e-09],\n",
              "       ...,\n",
              "       [-1.83220638e-01, -8.89272060e-09, -9.81968100e-09, ...,\n",
              "         2.35311186e-05, -3.25484493e-06,  9.02499060e-09],\n",
              "       [-7.02096331e-01,  3.05178374e-10,  2.56061008e-09, ...,\n",
              "        -8.61759744e-04,  9.43449909e-05,  3.83761998e-09],\n",
              "       [-3.50933229e-01,  8.85876862e-09, -6.57515140e-10, ...,\n",
              "        -1.80365926e-06, -8.14464807e-06,  8.79454531e-09]])"
            ]
          },
          "metadata": {
            "tags": []
          },
          "execution_count": 130
        }
      ]
    },
    {
      "cell_type": "code",
      "metadata": {
        "id": "G5zr8kQztScX",
        "colab_type": "code",
        "outputId": "19a8161d-a75e-4af7-cc2c-0b734b91fbc3",
        "colab": {
          "base_uri": "https://localhost:8080/",
          "height": 1000
        }
      },
      "source": [
        "Theta2"
      ],
      "execution_count": 0,
      "outputs": [
        {
          "output_type": "execute_result",
          "data": {
            "text/plain": [
              "array([[-0.76100352, -1.21244498, -0.10187131, -2.36850085, -1.05778129,\n",
              "        -2.20823629,  0.56383834,  1.21105294,  2.21030997,  0.44456156,\n",
              "        -1.18244872,  1.04289112, -1.60558756,  1.30419943,  1.37175046,\n",
              "         1.74825095, -0.23365648, -1.52014483,  1.15324176,  0.10368082,\n",
              "        -0.37207719, -0.61530019, -0.1256836 , -2.27193038, -0.71836208,\n",
              "        -1.29690315],\n",
              "       [-0.61785176,  0.61559207, -1.26550639,  1.85745418, -0.91853319,\n",
              "        -0.05502589, -0.38589806,  1.29520853, -1.56843297, -0.97026419,\n",
              "        -2.18334895, -2.85033578, -2.07733086,  1.63163164,  0.3490229 ,\n",
              "         1.82789117, -2.44174379, -0.8563034 , -0.2982564 , -2.07947873,\n",
              "        -1.2933238 ,  0.89982032,  0.28306578,  2.31180525, -2.46444086,\n",
              "         1.45656548],\n",
              "       [-0.68934072, -1.94538151,  2.01360618, -3.12316188, -0.2361763 ,\n",
              "         1.38680947,  0.90982429, -1.54774416, -0.79830896, -0.65599834,\n",
              "         0.7353833 , -2.58593294,  0.47210839,  0.55349499,  2.51255453,\n",
              "        -2.4167454 , -1.63898627,  1.2027302 , -1.20245851, -1.83445959,\n",
              "        -1.88013027, -0.34056098,  0.23692483, -1.06137919,  1.02759232,\n",
              "        -0.47690832],\n",
              "       [-0.67832479,  0.46299226,  0.58492321, -0.1650184 ,  1.93264192,\n",
              "        -0.22965765, -1.84731492,  0.49011768,  1.07146054, -3.31905643,\n",
              "         1.54113507,  0.37371947, -0.86484681, -2.58273522,  0.97062447,\n",
              "        -0.51021867, -0.68427897, -1.64713607,  0.21153145, -0.27422442,\n",
              "         1.72599755,  1.32418658, -2.63984479, -0.08055871, -2.03510803,\n",
              "        -1.46123776],\n",
              "       [-0.59664339, -2.04481799,  2.05698407,  1.95100909,  0.17637699,\n",
              "        -2.16141218, -0.40394736,  1.80157532, -1.56278739, -0.25253004,\n",
              "         0.23586497,  0.71656699,  1.07689092, -0.35457279, -1.67743058,\n",
              "        -0.12939255, -0.67488849,  1.14066535,  1.32431237,  3.21158484,\n",
              "        -2.15888898, -2.60164082, -3.2226466 , -1.89612906, -0.87488068,\n",
              "         2.51038628],\n",
              "       [-0.87794907,  0.4344112 , -0.93161049,  0.18390778, -0.36078216,\n",
              "         0.61958137,  0.38624948, -2.65150343,  2.29710773, -2.08818098,\n",
              "        -1.86382323,  1.06057836,  0.77562146,  2.1346861 , -1.14973702,\n",
              "        -0.52081426,  0.99743429, -1.48309353, -2.3139424 ,  0.29517333,\n",
              "        -0.38704879, -2.20607697,  0.30702191, -1.17646114, -1.63462966,\n",
              "        -0.82467661],\n",
              "       [-0.52746527,  1.21564288, -1.50095981, -2.03195359, -1.52366734,\n",
              "        -2.43732079, -2.37570311, -1.39987277, -0.88735315, -0.63278873,\n",
              "         1.50450176, -1.580763  ,  0.58599217, -0.77540416,  0.94257331,\n",
              "         2.10919653,  0.54479132,  0.43773612, -1.28024228, -0.04360994,\n",
              "         1.4774997 , -1.13276949, -0.72846904,  0.04734716,  1.6574566 ,\n",
              "         1.68540944],\n",
              "       [-0.7490154 , -0.72249056, -3.15228173,  0.36577778,  0.19811362,\n",
              "        -0.73059946,  1.65263918, -2.300357  , -1.87468162,  0.98095387,\n",
              "        -1.58825159,  1.35434142,  2.17895331, -1.99239762, -2.00371362,\n",
              "        -0.388613  , -2.33992976, -2.91719062,  0.99398645, -2.70476768,\n",
              "        -1.27139772,  1.86091461, -1.20519404, -0.38014194,  0.7087181 ,\n",
              "        -2.11014003],\n",
              "       [-0.6665468 ,  0.53601845,  1.30307573, -1.03372714, -4.03084753,\n",
              "         0.58173469, -2.65717902,  0.80379994, -1.09241928,  2.49910058,\n",
              "         0.362008  ,  0.66195337, -0.92160534, -0.83123666, -2.00200952,\n",
              "        -2.94897501,  0.64564202, -1.10114694,  0.74510309,  0.58506717,\n",
              "        -1.99545251,  0.62591105,  1.80596103, -0.22309315, -1.40442136,\n",
              "        -2.1319153 ],\n",
              "       [-0.46089119, -1.43944954, -1.21809509,  0.71093011,  0.45216919,\n",
              "        -0.35953381,  0.62284954, -0.67005297, -0.7069138 ,  0.06311351,\n",
              "        -1.23199074, -1.74645233, -2.71960897, -2.21437178, -1.69307505,\n",
              "        -0.90927394,  0.87852311,  1.18664814, -1.87041262,  0.39796295,\n",
              "         1.72113872, -1.36934055,  0.8580668 , -0.24779579,  1.28009118,\n",
              "        -1.32752042]])"
            ]
          },
          "metadata": {
            "tags": []
          },
          "execution_count": 131
        }
      ]
    },
    {
      "cell_type": "code",
      "metadata": {
        "id": "DE1wbC9Bv_xi",
        "colab_type": "code",
        "colab": {}
      },
      "source": [
        "t=np.ones([5000, 1], dtype = int) "
      ],
      "execution_count": 0,
      "outputs": []
    },
    {
      "cell_type": "code",
      "metadata": {
        "id": "312f2MVn5RX8",
        "colab_type": "code",
        "outputId": "e25a8045-1c23-41f6-f465-3f9653def397",
        "colab": {
          "base_uri": "https://localhost:8080/",
          "height": 134
        }
      },
      "source": [
        "X = np.column_stack((t, X))   #Adding biasing to X\n",
        "X"
      ],
      "execution_count": 0,
      "outputs": [
        {
          "output_type": "execute_result",
          "data": {
            "text/plain": [
              "array([[1., 0., 0., ..., 0., 0., 0.],\n",
              "       [1., 0., 0., ..., 0., 0., 0.],\n",
              "       [1., 0., 0., ..., 0., 0., 0.],\n",
              "       ...,\n",
              "       [1., 0., 0., ..., 0., 0., 0.],\n",
              "       [1., 0., 0., ..., 0., 0., 0.],\n",
              "       [1., 0., 0., ..., 0., 0., 0.]])"
            ]
          },
          "metadata": {
            "tags": []
          },
          "execution_count": 133
        }
      ]
    },
    {
      "cell_type": "code",
      "metadata": {
        "id": "Rvk9rFgxbtYU",
        "colab_type": "code",
        "outputId": "7ac5c26d-431f-4aa6-f542-0300c464bddd",
        "colab": {
          "base_uri": "https://localhost:8080/",
          "height": 34
        }
      },
      "source": [
        "X.shape"
      ],
      "execution_count": 0,
      "outputs": [
        {
          "output_type": "execute_result",
          "data": {
            "text/plain": [
              "(5000, 401)"
            ]
          },
          "metadata": {
            "tags": []
          },
          "execution_count": 134
        }
      ]
    },
    {
      "cell_type": "code",
      "metadata": {
        "id": "AJ-2MCdAb5yF",
        "colab_type": "code",
        "outputId": "2679490d-d505-40f4-ce71-a8a4b2ff8b2a",
        "colab": {
          "base_uri": "https://localhost:8080/",
          "height": 34
        }
      },
      "source": [
        "Theta1.shape"
      ],
      "execution_count": 0,
      "outputs": [
        {
          "output_type": "execute_result",
          "data": {
            "text/plain": [
              "(25, 401)"
            ]
          },
          "metadata": {
            "tags": []
          },
          "execution_count": 135
        }
      ]
    },
    {
      "cell_type": "code",
      "metadata": {
        "id": "xY08RByK7fh8",
        "colab_type": "code",
        "colab": {}
      },
      "source": [
        "z1=np.dot(Theta1, np.transpose(inputlayer))"
      ],
      "execution_count": 0,
      "outputs": []
    },
    {
      "cell_type": "code",
      "metadata": {
        "id": "C-6JuAN689kH",
        "colab_type": "code",
        "outputId": "19749b7e-714e-4e95-e8e1-e88517f9f839",
        "colab": {
          "base_uri": "https://localhost:8080/",
          "height": 34
        }
      },
      "source": [
        "z1.shape"
      ],
      "execution_count": 0,
      "outputs": [
        {
          "output_type": "execute_result",
          "data": {
            "text/plain": [
              "(25, 5000)"
            ]
          },
          "metadata": {
            "tags": []
          },
          "execution_count": 137
        }
      ]
    },
    {
      "cell_type": "code",
      "metadata": {
        "id": "_A2tq_N48_t0",
        "colab_type": "code",
        "colab": {}
      },
      "source": [
        "h1=1 / (1 + np.exp(-z1)) #Finding the sigmoid. "
      ],
      "execution_count": 0,
      "outputs": []
    },
    {
      "cell_type": "code",
      "metadata": {
        "id": "q5fUSJesK5si",
        "colab_type": "code",
        "colab": {}
      },
      "source": [
        "np.multiply(h1,(1-h1))"
      ],
      "execution_count": 0,
      "outputs": []
    },
    {
      "cell_type": "code",
      "metadata": {
        "id": "mKPxsNOG9MG2",
        "colab_type": "code",
        "outputId": "81c844f5-3512-46e0-9220-8dae4ed38946",
        "colab": {
          "base_uri": "https://localhost:8080/",
          "height": 235
        }
      },
      "source": [
        "h1"
      ],
      "execution_count": 0,
      "outputs": [
        {
          "output_type": "execute_result",
          "data": {
            "text/plain": [
              "array([[5.03618685e-02, 8.05782163e-03, 1.41949887e-02, ...,\n",
              "        2.96781175e-01, 8.51205095e-01, 9.72262381e-01],\n",
              "       [7.93957162e-02, 5.10486829e-02, 2.44354705e-02, ...,\n",
              "        7.32901746e-01, 3.58434539e-01, 5.48598771e-06],\n",
              "       [9.93001966e-01, 9.33671593e-01, 9.97518887e-01, ...,\n",
              "        1.57724076e-01, 1.83675450e-01, 9.93379633e-01],\n",
              "       ...,\n",
              "       [9.72517962e-01, 8.91385592e-01, 8.24334311e-01, ...,\n",
              "        8.60396828e-01, 9.84854863e-01, 9.99235749e-01],\n",
              "       [9.43421623e-01, 9.90982126e-01, 9.56466386e-01, ...,\n",
              "        3.98474223e-02, 2.75399966e-01, 8.96120297e-01],\n",
              "       [1.07213787e-01, 5.94701645e-02, 8.86760824e-02, ...,\n",
              "        1.51177198e-01, 4.35605471e-02, 5.00966928e-02]])"
            ]
          },
          "metadata": {
            "tags": []
          },
          "execution_count": 140
        }
      ]
    },
    {
      "cell_type": "code",
      "metadata": {
        "id": "T8SVOJrSTrfM",
        "colab_type": "code",
        "outputId": "26bec80a-38cb-4ff0-cb37-9dbdba636111",
        "colab": {
          "base_uri": "https://localhost:8080/",
          "height": 34
        }
      },
      "source": [
        "h1.shape"
      ],
      "execution_count": 0,
      "outputs": [
        {
          "output_type": "execute_result",
          "data": {
            "text/plain": [
              "(25, 5000)"
            ]
          },
          "metadata": {
            "tags": []
          },
          "execution_count": 141
        }
      ]
    },
    {
      "cell_type": "code",
      "metadata": {
        "id": "O95goyQo9Zr2",
        "colab_type": "code",
        "colab": {}
      },
      "source": [
        "hiddenlayer = np.column_stack((t, np.transpose(h1))) #Adding biasing to the hidden layer."
      ],
      "execution_count": 0,
      "outputs": []
    },
    {
      "cell_type": "code",
      "metadata": {
        "id": "0Gbrbe1_-1Lt",
        "colab_type": "code",
        "outputId": "96d9fd5c-d4b5-45e3-c5b4-57d1c9bbc062",
        "colab": {
          "base_uri": "https://localhost:8080/",
          "height": 34
        }
      },
      "source": [
        "hiddenlayer.shape"
      ],
      "execution_count": 0,
      "outputs": [
        {
          "output_type": "execute_result",
          "data": {
            "text/plain": [
              "(5000, 26)"
            ]
          },
          "metadata": {
            "tags": []
          },
          "execution_count": 143
        }
      ]
    },
    {
      "cell_type": "code",
      "metadata": {
        "id": "NhgCrOsK_BN6",
        "colab_type": "code",
        "colab": {}
      },
      "source": [
        "z2=np.dot(Theta2,np.transpose(hiddenlayer))"
      ],
      "execution_count": 0,
      "outputs": []
    },
    {
      "cell_type": "code",
      "metadata": {
        "id": "hFe6ST3C_rRn",
        "colab_type": "code",
        "colab": {}
      },
      "source": [
        "h2=1 / (1 + np.exp(-z2))"
      ],
      "execution_count": 0,
      "outputs": []
    },
    {
      "cell_type": "code",
      "metadata": {
        "id": "JCUCsuPL_uxE",
        "colab_type": "code",
        "outputId": "c6f9d9f1-10f2-4701-ce64-78a0b86c5b90",
        "colab": {
          "base_uri": "https://localhost:8080/",
          "height": 235
        }
      },
      "source": [
        "h2 # The final output layer"
      ],
      "execution_count": 0,
      "outputs": [
        {
          "output_type": "execute_result",
          "data": {
            "text/plain": [
              "array([[1.12661530e-04, 4.79026796e-04, 8.85702310e-05, ...,\n",
              "        5.17641791e-02, 8.30631310e-04, 4.81465717e-05],\n",
              "       [1.74127856e-03, 2.41495958e-03, 3.24266731e-03, ...,\n",
              "        3.81715020e-03, 6.22003774e-04, 4.58821829e-04],\n",
              "       [2.52696959e-03, 3.44755685e-03, 2.55419797e-02, ...,\n",
              "        2.96297510e-02, 3.14518512e-04, 2.15146201e-05],\n",
              "       ...,\n",
              "       [4.01468105e-04, 2.39107046e-03, 6.22892325e-02, ...,\n",
              "        2.15667361e-03, 1.19366192e-02, 5.73434571e-03],\n",
              "       [6.48072305e-03, 1.97025086e-03, 5.49803551e-03, ...,\n",
              "        6.49826950e-01, 9.71410499e-01, 6.96288990e-01],\n",
              "       [9.95734012e-01, 9.95696931e-01, 9.28008397e-01, ...,\n",
              "        2.42384687e-05, 2.06173648e-04, 8.18576980e-02]])"
            ]
          },
          "metadata": {
            "tags": []
          },
          "execution_count": 146
        }
      ]
    },
    {
      "cell_type": "code",
      "metadata": {
        "id": "x_qUzxrTiGgA",
        "colab_type": "code",
        "outputId": "074b8b2a-b1a9-40fa-b03a-7a0ec5a0bb6f",
        "colab": {
          "base_uri": "https://localhost:8080/",
          "height": 34
        }
      },
      "source": [
        "h2.T.shape"
      ],
      "execution_count": 0,
      "outputs": [
        {
          "output_type": "execute_result",
          "data": {
            "text/plain": [
              "(5000, 10)"
            ]
          },
          "metadata": {
            "tags": []
          },
          "execution_count": 147
        }
      ]
    },
    {
      "cell_type": "code",
      "metadata": {
        "id": "oCnZFPgmBi8k",
        "colab_type": "code",
        "colab": {}
      },
      "source": [
        "h=h2.T"
      ],
      "execution_count": 0,
      "outputs": []
    },
    {
      "cell_type": "code",
      "metadata": {
        "id": "CqcJjzSlBmqc",
        "colab_type": "code",
        "outputId": "5ab69461-dcd4-408a-cbd3-6754615c540a",
        "colab": {
          "base_uri": "https://localhost:8080/",
          "height": 34
        }
      },
      "source": [
        "h.shape"
      ],
      "execution_count": 0,
      "outputs": [
        {
          "output_type": "execute_result",
          "data": {
            "text/plain": [
              "(5000, 10)"
            ]
          },
          "metadata": {
            "tags": []
          },
          "execution_count": 64
        }
      ]
    },
    {
      "cell_type": "code",
      "metadata": {
        "id": "F1PtlaTGBrIF",
        "colab_type": "code",
        "outputId": "f1b7f073-84fd-4a60-8cb7-3720d1037712",
        "colab": {
          "base_uri": "https://localhost:8080/",
          "height": 34
        }
      },
      "source": [
        "np.log(h).shape"
      ],
      "execution_count": 0,
      "outputs": [
        {
          "output_type": "execute_result",
          "data": {
            "text/plain": [
              "(5000, 10)"
            ]
          },
          "metadata": {
            "tags": []
          },
          "execution_count": 67
        }
      ]
    },
    {
      "cell_type": "code",
      "metadata": {
        "id": "-bp-83i9CD7a",
        "colab_type": "code",
        "outputId": "9d899b8e-6fda-4ab7-a5da-1e6a86e2fa12",
        "colab": {
          "base_uri": "https://localhost:8080/",
          "height": 34
        }
      },
      "source": [
        "np.multiply(Y,np.log(h)).shape"
      ],
      "execution_count": 0,
      "outputs": [
        {
          "output_type": "execute_result",
          "data": {
            "text/plain": [
              "(5000, 10)"
            ]
          },
          "metadata": {
            "tags": []
          },
          "execution_count": 70
        }
      ]
    },
    {
      "cell_type": "code",
      "metadata": {
        "id": "LXCXfpG9CUCg",
        "colab_type": "code",
        "outputId": "bc48c4e1-350a-404f-88e7-7d6d9608a990",
        "colab": {
          "base_uri": "https://localhost:8080/",
          "height": 34
        }
      },
      "source": [
        "np.multiply((1-Y),np.log(1-h)).shape"
      ],
      "execution_count": 0,
      "outputs": [
        {
          "output_type": "execute_result",
          "data": {
            "text/plain": [
              "(5000, 10)"
            ]
          },
          "metadata": {
            "tags": []
          },
          "execution_count": 72
        }
      ]
    },
    {
      "cell_type": "code",
      "metadata": {
        "id": "Ebpq_BxsCdrf",
        "colab_type": "code",
        "colab": {}
      },
      "source": [
        "cost=-np.multiply(Y,np.log(h))-np.multiply((1-Y),np.log(1-h))"
      ],
      "execution_count": 0,
      "outputs": []
    },
    {
      "cell_type": "code",
      "metadata": {
        "id": "ZwHUm-pGCsbL",
        "colab_type": "code",
        "outputId": "ea251421-99c0-4bf4-a1ba-7b9b4c914f44",
        "colab": {
          "base_uri": "https://localhost:8080/",
          "height": 34
        }
      },
      "source": [
        "cost.shape"
      ],
      "execution_count": 0,
      "outputs": [
        {
          "output_type": "execute_result",
          "data": {
            "text/plain": [
              "(5000, 10)"
            ]
          },
          "metadata": {
            "tags": []
          },
          "execution_count": 79
        }
      ]
    },
    {
      "cell_type": "code",
      "metadata": {
        "id": "uLJUU66_CvOA",
        "colab_type": "code",
        "colab": {}
      },
      "source": [
        "c=np.sum(cost)/5000"
      ],
      "execution_count": 0,
      "outputs": []
    },
    {
      "cell_type": "code",
      "metadata": {
        "id": "RqdXlTGaCyhG",
        "colab_type": "code",
        "colab": {}
      },
      "source": [
        "a=np.sum(np.multiply(Theta1,Theta1))"
      ],
      "execution_count": 0,
      "outputs": []
    },
    {
      "cell_type": "code",
      "metadata": {
        "id": "QivL9L28G5S3",
        "colab_type": "code",
        "colab": {}
      },
      "source": [
        "b=np.sum(np.multiply(Theta2,Theta2))"
      ],
      "execution_count": 0,
      "outputs": []
    },
    {
      "cell_type": "code",
      "metadata": {
        "id": "mhk-2M0FHFY2",
        "colab_type": "code",
        "outputId": "9f41644f-8594-4249-cb7c-6bb2510a24c7",
        "colab": {
          "base_uri": "https://localhost:8080/",
          "height": 34
        }
      },
      "source": [
        "(a+b)/(2*5000)+c\n"
      ],
      "execution_count": 0,
      "outputs": [
        {
          "output_type": "execute_result",
          "data": {
            "text/plain": [
              "0.384487796242894"
            ]
          },
          "metadata": {
            "tags": []
          },
          "execution_count": 89
        }
      ]
    },
    {
      "cell_type": "code",
      "metadata": {
        "id": "ugkd5QJcHTz2",
        "colab_type": "code",
        "colab": {}
      },
      "source": [
        ""
      ],
      "execution_count": 0,
      "outputs": []
    },
    {
      "cell_type": "code",
      "metadata": {
        "id": "HTCglbr1MtNc",
        "colab_type": "code",
        "colab": {}
      },
      "source": [
        "H=np.argmax(h2.T, axis=1)"
      ],
      "execution_count": 0,
      "outputs": []
    },
    {
      "cell_type": "code",
      "metadata": {
        "id": "DPlKjlpmM_kr",
        "colab_type": "code",
        "outputId": "a3fe2fd7-7d3e-4d8e-963f-08f27cf0dde8",
        "colab": {
          "base_uri": "https://localhost:8080/",
          "height": 34
        }
      },
      "source": [
        "Y.shape"
      ],
      "execution_count": 0,
      "outputs": [
        {
          "output_type": "execute_result",
          "data": {
            "text/plain": [
              "(5000, 10)"
            ]
          },
          "metadata": {
            "tags": []
          },
          "execution_count": 157
        }
      ]
    },
    {
      "cell_type": "code",
      "metadata": {
        "id": "y8cfKQX0P05m",
        "colab_type": "code",
        "outputId": "5fe752a1-5c05-4c91-d11d-8bf3a1b8770b",
        "colab": {
          "base_uri": "https://localhost:8080/",
          "height": 235
        }
      },
      "source": [
        "Y-h2.T"
      ],
      "execution_count": 0,
      "outputs": [
        {
          "output_type": "execute_result",
          "data": {
            "text/plain": [
              "array([[-1.12661530e-04, -1.74127856e-03, -2.52696959e-03, ...,\n",
              "        -4.01468105e-04, -6.48072305e-03,  4.26598801e-03],\n",
              "       [-4.79026796e-04, -2.41495958e-03, -3.44755685e-03, ...,\n",
              "        -2.39107046e-03, -1.97025086e-03,  4.30306860e-03],\n",
              "       [-8.85702310e-05, -3.24266731e-03, -2.55419797e-02, ...,\n",
              "        -6.22892325e-02, -5.49803551e-03,  7.19916032e-02],\n",
              "       ...,\n",
              "       [-5.17641791e-02, -3.81715020e-03, -2.96297510e-02, ...,\n",
              "        -2.15667361e-03,  3.50173050e-01, -2.42384687e-05],\n",
              "       [-8.30631310e-04, -6.22003774e-04, -3.14518512e-04, ...,\n",
              "        -1.19366192e-02,  2.85895014e-02, -2.06173648e-04],\n",
              "       [-4.81465717e-05, -4.58821829e-04, -2.15146201e-05, ...,\n",
              "        -5.73434571e-03,  3.03711010e-01, -8.18576980e-02]])"
            ]
          },
          "metadata": {
            "tags": []
          },
          "execution_count": 159
        }
      ]
    },
    {
      "cell_type": "code",
      "metadata": {
        "id": "mTRLdYXjSF28",
        "colab_type": "code",
        "colab": {}
      },
      "source": [
        ""
      ],
      "execution_count": 0,
      "outputs": []
    },
    {
      "cell_type": "code",
      "metadata": {
        "id": "llAhl0LfNOMj",
        "colab_type": "code",
        "outputId": "8cb753d4-2ed5-40ed-b53f-8d71b0c58394",
        "colab": {
          "base_uri": "https://localhost:8080/",
          "height": 34
        }
      },
      "source": [
        "y_pred = np.array(np.argmax(h2.T, axis=1) + 1)\n",
        "y_pred"
      ],
      "execution_count": 0,
      "outputs": [
        {
          "output_type": "execute_result",
          "data": {
            "text/plain": [
              "array([10, 10, 10, ...,  9,  9,  9])"
            ]
          },
          "metadata": {
            "tags": []
          },
          "execution_count": 30
        }
      ]
    },
    {
      "cell_type": "code",
      "metadata": {
        "id": "jrGuLzIRUY8O",
        "colab_type": "code",
        "outputId": "c1a206f0-bfc9-4d65-bb0e-ff4b96ae4289",
        "colab": {
          "base_uri": "https://localhost:8080/",
          "height": 34
        }
      },
      "source": [
        "np.argmax(h2.T, axis=1)"
      ],
      "execution_count": 0,
      "outputs": [
        {
          "output_type": "execute_result",
          "data": {
            "text/plain": [
              "array([9, 9, 9, ..., 8, 8, 8])"
            ]
          },
          "metadata": {
            "tags": []
          },
          "execution_count": 32
        }
      ]
    },
    {
      "cell_type": "code",
      "metadata": {
        "id": "OkRti2ATNU25",
        "colab_type": "code",
        "outputId": "289577be-1995-46c5-8c1d-3199209351e7",
        "colab": {
          "base_uri": "https://localhost:8080/",
          "height": 34
        }
      },
      "source": [
        "correct = [1 if a == b else 0 for (a, b) in zip(y_pred, Y)]\n",
        "accuracy = (sum(map(int, correct)) / float(len(correct)))\n",
        "print ('accuracy = {0}%'.format(accuracy * 100))"
      ],
      "execution_count": 0,
      "outputs": [
        {
          "output_type": "stream",
          "text": [
            "accuracy = 97.52%\n"
          ],
          "name": "stdout"
        }
      ]
    }
  ]
}